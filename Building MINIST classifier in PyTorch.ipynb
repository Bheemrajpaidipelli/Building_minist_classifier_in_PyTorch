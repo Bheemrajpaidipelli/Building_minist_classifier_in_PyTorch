{
 "cells": [
  {
   "cell_type": "code",
   "execution_count": 11,
   "id": "d3b156ac",
   "metadata": {},
   "outputs": [],
   "source": [
    "import matplotlib.pyplot as plt \n",
    "import torch \n",
    "from torch import optim \n",
    "import torch.nn as nn \n",
    "from torch.utils.data import Dataset, DataLoader\n",
    "from torchvision.datasets import MNIST\n",
    "from torchvision.transforms import ToTensor"
   ]
  },
  {
   "cell_type": "code",
   "execution_count": 12,
   "id": "72d8ceca",
   "metadata": {},
   "outputs": [],
   "source": [
    "class BaseClassifier(nn.Module):\n",
    "    def __init__(self, in_dim, feature_dim,out_dim):\n",
    "        super(BaseClassifier, self).__init__()\n",
    "        self.classifier = nn.Sequential(\n",
    "             nn.Linear(in_dim,feature_dim,bias=True),\n",
    "             nn.ReLU(),\n",
    "             nn.Linear(feature_dim,out_dim,bias=True)\n",
    "        )\n",
    "        \n",
    "    def forward(self,x):\n",
    "        return self.classifier(x)"
   ]
  },
  {
   "cell_type": "code",
   "execution_count": 13,
   "id": "e1388699",
   "metadata": {},
   "outputs": [],
   "source": [
    "# load in MINST dataset from PyTorch\n",
    "train_dataset = MNIST(\".\", train=True,download=True,transform=ToTensor())\n",
    "test_dataset = MNIST(\".\", train=False,download=True,transform=ToTensor())\n",
    "train_loader = DataLoader(train_dataset,batch_size=64,shuffle=True)\n",
    "test_loader = DataLoader(test_dataset,batch_size=64,shuffle=False)\n"
   ]
  },
  {
   "cell_type": "code",
   "execution_count": 14,
   "id": "635d702a",
   "metadata": {},
   "outputs": [
    {
     "data": {
      "text/plain": [
       "Dataset MNIST\n",
       "    Number of datapoints: 60000\n",
       "    Root location: .\n",
       "    Split: Train\n",
       "    StandardTransform\n",
       "Transform: ToTensor()"
      ]
     },
     "execution_count": 14,
     "metadata": {},
     "output_type": "execute_result"
    }
   ],
   "source": [
    "train_dataset"
   ]
  },
  {
   "cell_type": "code",
   "execution_count": 15,
   "id": "ef3cc0fa",
   "metadata": {},
   "outputs": [
    {
     "data": {
      "text/plain": [
       "Dataset MNIST\n",
       "    Number of datapoints: 10000\n",
       "    Root location: .\n",
       "    Split: Test\n",
       "    StandardTransform\n",
       "Transform: ToTensor()"
      ]
     },
     "execution_count": 15,
     "metadata": {},
     "output_type": "execute_result"
    }
   ],
   "source": [
    "test_dataset"
   ]
  },
  {
   "cell_type": "code",
   "execution_count": 16,
   "id": "065319a5",
   "metadata": {},
   "outputs": [
    {
     "data": {
      "text/plain": [
       "<torch.utils.data.dataloader.DataLoader at 0x14bbdaec760>"
      ]
     },
     "execution_count": 16,
     "metadata": {},
     "output_type": "execute_result"
    }
   ],
   "source": [
    "train_loader"
   ]
  },
  {
   "cell_type": "code",
   "execution_count": 17,
   "id": "8cede3ed",
   "metadata": {},
   "outputs": [
    {
     "data": {
      "text/plain": [
       "<torch.utils.data.dataloader.DataLoader at 0x14be15966d0>"
      ]
     },
     "execution_count": 17,
     "metadata": {},
     "output_type": "execute_result"
    }
   ],
   "source": [
    "test_loader"
   ]
  },
  {
   "cell_type": "code",
   "execution_count": 27,
   "id": "d6fe7b53",
   "metadata": {},
   "outputs": [
    {
     "name": "stdout",
     "output_type": "stream",
     "text": [
      "Epoch: 1, Train Loss: 0.2193\n",
      "Epoch: 2, Train Loss: 0.1367\n",
      "Epoch: 3, Train Loss: 0.1111\n",
      "Epoch: 4, Train Loss: 0.1037\n",
      "Epoch: 5, Train Loss: 0.0858\n",
      "Epoch: 6, Train Loss: 0.0874\n",
      "Epoch: 7, Train Loss: 0.0873\n",
      "Epoch: 8, Train Loss: 0.0840\n",
      "Epoch: 9, Train Loss: 0.0795\n",
      "Epoch: 10, Train Loss: 0.0758\n",
      "Epoch: 11, Train Loss: 0.0663\n",
      "Epoch: 12, Train Loss: 0.0676\n",
      "Epoch: 13, Train Loss: 0.0660\n",
      "Epoch: 14, Train Loss: 0.0691\n",
      "Epoch: 15, Train Loss: 0.0646\n",
      "Epoch: 16, Train Loss: 0.0596\n",
      "Epoch: 17, Train Loss: 0.0719\n",
      "Epoch: 18, Train Loss: 0.0470\n",
      "Epoch: 19, Train Loss: 0.0551\n",
      "Epoch: 20, Train Loss: 0.0694\n",
      "Training Loss List: [0.2192963766944863, 0.1367452480452461, 0.11114788928193532, 0.10371638271391817, 0.08583619765144451, 0.08741441990904408, 0.08731875898760925, 0.08403491787950639, 0.07946499405431295, 0.07577079029164673, 0.06631970921278811, 0.06760878984342722, 0.065986861228641, 0.06913397272961953, 0.06458817897859896, 0.0596109335083622, 0.07185650065968975, 0.046980421427541934, 0.05512960610519806, 0.06943999718157301]\n"
     ]
    },
    {
     "data": {
      "image/png": "[encoded data removed]",
      "text/plain": [
       "<Figure size 432x288 with 1 Axes>"
      ]
     },
     "metadata": {
      "needs_background": "light"
     },
     "output_type": "display_data"
    }
   ],
   "source": [
    "\n",
    "# Instantiate model, optimizer, and hyperparameters\n",
    "in_dim, feature_dim, out_dim = 784, 256, 10\n",
    "lr = 0.01\n",
    "loss_fn = nn.CrossEntropyLoss()\n",
    "epochs = 20\n",
    "classifier = BaseClassifier(in_dim, feature_dim, out_dim)\n",
    "optimizer = optim.Adam(classifier.parameters(), lr=lr)\n",
    "\n",
    "# Training function\n",
    "def train(classifier=classifier, optimizer=optimizer, epochs=epochs, loss_fn=loss_fn):\n",
    "    classifier.train()\n",
    "    loss_list = []\n",
    "\n",
    "    for epoch in range(epochs):\n",
    "        running_loss = 0.0\n",
    "        for data, target in train_loader:\n",
    "            data = data.flatten(start_dim=1)\n",
    "\n",
    "            optimizer.zero_grad()\n",
    "            out = classifier(data)\n",
    "            computed_loss = loss_fn(out, target)\n",
    "            computed_loss.backward()\n",
    "            optimizer.step()\n",
    "\n",
    "            running_loss += computed_loss.item()\n",
    "\n",
    "        epoch_loss = running_loss / len(train_loader)\n",
    "        loss_list.append(epoch_loss)\n",
    "        print(f\"Epoch: {epoch + 1}, Train Loss: {epoch_loss:.4f}\")\n",
    "\n",
    "    print(\"Training Loss List:\", loss_list)\n",
    "    return loss_list\n",
    "\n",
    "# Run training and store the loss list\n",
    "loss_list = train()\n",
    "\n",
    "# Plot training loss\n",
    "plt.plot([i for i in range(1, epochs + 1)], loss_list)\n",
    "plt.xlabel('Epoch')  # Corrected\n",
    "plt.ylabel('Training Loss')  # Corrected\n",
    "plt.title(f\"MNIST Training Loss: optimizer SGD, lr {lr}\")\n",
    "plt.grid(True)\n",
    "plt.show()\n",
    "\n",
    "# Save model checkpoint (weights only)\n",
    "torch.save(classifier.state_dict(), 'mnist.pt')\n"
   ]
  },
  {
   "cell_type": "code",
   "execution_count": 28,
   "id": "27683743",
   "metadata": {},
   "outputs": [],
   "source": [
    "\n",
    "\n",
    "def test(classifier, lossfn, test_loader, device='cpu'):\n",
    "    classifier.eval()\n",
    "    classifier.to(device)  # Ensure model is on the correct device (CPU or GPU)\n",
    "    \n",
    "    accuracy = 0.0\n",
    "    computed_loss = 0.0\n",
    "    total_samples = 0\n",
    "\n",
    "    with torch.no_grad():  # Disable gradient calculation\n",
    "        for data, target in test_loader:\n",
    "            data, target = data.to(device), target.to(device)  # Move data to the device\n",
    "            data = data.flatten(start_dim=1)\n",
    "\n",
    "            # Forward pass through the model\n",
    "            out = classifier(data)\n",
    "            _, preds = torch.max(out, dim=1)\n",
    "\n",
    "            # Accumulate loss and accuracy\n",
    "            computed_loss += lossfn(out, target).item()  # Loss for this batch\n",
    "            accuracy += (preds == target).sum().item()  # Number of correct predictions\n",
    "            total_samples += target.size(0)  # Total number of samples\n",
    "\n",
    "    # Calculate average loss and accuracy\n",
    "    avg_loss = computed_loss / len(test_loader)\n",
    "    acc_percent = (accuracy / total_samples) * 100.0\n",
    "\n",
    "    # Print the results\n",
    "    print(f\"Test loss: {avg_loss:.4f}, Test accuracy: {acc_percent:.2f}%\")\n"
   ]
  },
  {
   "cell_type": "code",
   "execution_count": 29,
   "id": "e6d06795",
   "metadata": {},
   "outputs": [
    {
     "name": "stdout",
     "output_type": "stream",
     "text": [
      "Test loss: 0.3812, Test accuracy: 97.21%\n"
     ]
    }
   ],
   "source": [
    "device = torch.device('cuda' if torch.cuda.is_available() else 'cpu')\n",
    "classifier.to(device)  # Ensure model is on the correct device\n",
    "test(classifier=classifier, lossfn=loss_fn, test_loader=test_loader, device=device)\n"
   ]
  },
  {
   "cell_type": "markdown",
   "id": "efce57d7",
   "metadata": {},
   "source": [
    "### Hyperparameter tunning"
   ]
  },
  {
   "cell_type": "markdown",
   "id": "e0561210",
   "metadata": {},
   "source": [
    "<div class=\"alert alert alert-block alert-info\">\n",
    "    \n",
    "*  for optimizer SGD got accuracy 91% for epochs 50  test loss is 0.3007\n",
    "    \n",
    "*  for optimizer SGD got accuracy 89.46% for epochs 20 test loss is 0.4034\n",
    "    \n",
    "*  for optimizer SGD got accuracy 98.05% for epochs 20 test loss is 0.0790  for momentum=0.9\n",
    "   \n",
    "*  for optimizer SGD got accuracy 97.91% for epochs 20 test loss is 0.0647 for momentum=0.9 nesterov=True  \n",
    "    \n",
    "*  for optimizer Adam got accuracy 98.10% epochs 20  test loss is 0.0807\n",
    "    <div>"
   ]
  },
  {
   "cell_type": "markdown",
   "id": "736a86f3",
   "metadata": {},
   "source": [
    "<div class = \" alert alert alert-block alert-success\">\n",
    "we are using Adam for ease speed and strong performance"
   ]
  },
  {
   "cell_type": "markdown",
   "id": "6f166b91",
   "metadata": {},
   "source": [
    "<div class = \" alert alert alert-block alert-warning\">\n",
    "    Momentum in PyTorch's SGD helps the optimizer move faster and more smoothly by using past gradients to influence the current update. It speeds up convergence and reduces oscillations."
   ]
  },
  {
   "cell_type": "markdown",
   "id": "7d86526f",
   "metadata": {},
   "source": [
    "<div class = \" alert alert alert-block alert-warning\">\n",
    "* nesterov=True in PyTorch's SGD enables Nesterov Accelerated Gradient (NAG), a variation of momentum that looks ahead before calculating the gradient.\n",
    "\n",
    "* Effect:\n",
    "It gives a more accurate update by computing the gradient after making a partial step in the direction of the momentum."
   ]
  },
  {
   "cell_type": "markdown",
   "id": "34565908",
   "metadata": {},
   "source": [
    "<div class = \" alert alert alert-block alert-success\">\n",
    "super() is used in  BaseClassifier to properly initialize nn.Module.\n",
    "This is required in PyTorch neural network classes to ensure training and inference work correctly."
   ]
  },
  {
   "cell_type": "code",
   "execution_count": null,
   "id": "f0a2b8d6",
   "metadata": {},
   "outputs": [],
   "source": []
  }
 ],
 "metadata": {
  "kernelspec": {
   "display_name": "Python 3 (ipykernel)",
   "language": "python",
   "name": "python3"
  },
  "language_info": {
   "codemirror_mode": {
    "name": "ipython",
    "version": 3
   },
   "file_extension": ".py",
   "mimetype": "text/x-python",
   "name": "python",
   "nbconvert_exporter": "python",
   "pygments_lexer": "ipython3",
   "version": "3.9.12"
  }
 },
 "nbformat": 4,
 "nbformat_minor": 5
}
